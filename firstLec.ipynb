{
  "nbformat": 4,
  "nbformat_minor": 0,
  "metadata": {
    "colab": {
      "provenance": [],
      "include_colab_link": true
    },
    "kernelspec": {
      "name": "python3",
      "display_name": "Python 3"
    },
    "language_info": {
      "name": "python"
    }
  },
  "cells": [
    {
      "cell_type": "markdown",
      "metadata": {
        "id": "view-in-github",
        "colab_type": "text"
      },
      "source": [
        "<a href=\"https://colab.research.google.com/github/xRUFIAxGit1/lab1/blob/main/firstLec.ipynb\" target=\"_parent\"><img src=\"https://colab.research.google.com/assets/colab-badge.svg\" alt=\"Open In Colab\"/></a>"
      ]
    },
    {
      "cell_type": "markdown",
      "source": [
        "first task"
      ],
      "metadata": {
        "id": "dYZO-M18STJz"
      }
    },
    {
      "cell_type": "markdown",
      "source": [
        "Дан диаметр окружности d. Найти ее длину L = π·d. В качестве\n",
        "значения π использовать 3.14."
      ],
      "metadata": {
        "id": "rvDc8vEL78Dx"
      }
    },
    {
      "cell_type": "code",
      "execution_count": null,
      "metadata": {
        "colab": {
          "base_uri": "https://localhost:8080/"
        },
        "id": "TPP48uwlRQ9C",
        "outputId": "b9c97c49-abed-4470-c321-d33dcca7c427"
      },
      "outputs": [
        {
          "output_type": "stream",
          "name": "stdout",
          "text": [
            "0\n",
            "1\n",
            "2\n",
            "3\n",
            "4\n",
            "5\n",
            "6\n",
            "7\n",
            "8\n",
            "9\n"
          ]
        }
      ],
      "source": [
        "  "
      ]
    },
    {
      "cell_type": "code",
      "source": [
        "import math\n",
        "import random\n",
        "\n",
        "d = random.randrange(1,10)\n",
        "print(\"Диаметр окружности d = \", d)\n",
        "print(\"Пи = \", math.pi)\n",
        "L = math.pi * d\n",
        "print(\"Длина окружности L = \", L)\n"
      ],
      "metadata": {
        "id": "tgYJOGnq925D",
        "outputId": "7ee9443e-106d-4b08-b454-577a3f178244",
        "colab": {
          "base_uri": "https://localhost:8080/"
        }
      },
      "execution_count": 1,
      "outputs": [
        {
          "output_type": "stream",
          "name": "stdout",
          "text": [
            "Диаметр окружности d =  1\n",
            "Пи =  3.141592653589793\n",
            "Длина окружности L =  3.141592653589793\n"
          ]
        }
      ]
    },
    {
      "cell_type": "markdown",
      "source": [
        ". Дана площадь S круга. Найти его диаметр D и длину L окружности,\n",
        "ограничивающей этот круг, учитывая, что L = 2·π·R, S = π·R\n",
        "2\n",
        ". В качестве\n",
        "\n",
        "значения π использовать 3.14."
      ],
      "metadata": {
        "id": "LwMRtuRN9_UX"
      }
    },
    {
      "cell_type": "code",
      "source": [
        "import random\n",
        "import math\n",
        "\n",
        "print(\"Пи:\", math.pi)\n",
        "S = random.randrange(1,100)\n",
        "R = math.sqrt(S / math.pi)\n",
        "L = 2 * math.pi * R\n",
        "print(\"Радиус окружности: \", R)\n",
        "print(\"Площадь круга: \", S)\n",
        "print(\"Длина окружности: \", L)\n"
      ],
      "metadata": {
        "id": "5aj_WSzk-WPZ",
        "outputId": "8ce6af0b-cb6d-49e9-d69f-6b66a8e822b5",
        "colab": {
          "base_uri": "https://localhost:8080/"
        }
      },
      "execution_count": 2,
      "outputs": [
        {
          "output_type": "stream",
          "name": "stdout",
          "text": [
            "Пи: 3.141592653589793\n",
            "Радиус окружности:  4.583497844237541\n",
            "Площадь круга:  66\n",
            "Длина окружности:  28.798966310402623\n"
          ]
        }
      ]
    },
    {
      "cell_type": "markdown",
      "source": [
        "Найти значение функции y = 4(x−3)6 − 7(x−3)3 + 2 при данном\n",
        "значении x."
      ],
      "metadata": {
        "id": "YHc-HAbj-ctL"
      }
    },
    {
      "cell_type": "code",
      "source": [
        "import random\n",
        "\n",
        "x = random.randrange(-10, 11)\n",
        "print(\"x = \",x)\n",
        "t = (x-3)**3\n",
        "y = 4*t**2 - 7*t + 2\n",
        "print(\"4*({0}-3)^6 - 7*({0}-3)^3 + 2 = {1}\".format(x,y))\n"
      ],
      "metadata": {
        "id": "T-p5TLsT-jVv",
        "outputId": "45e24d8e-21b1-4164-a6e3-3080726ff71c",
        "colab": {
          "base_uri": "https://localhost:8080/"
        }
      },
      "execution_count": 3,
      "outputs": [
        {
          "output_type": "stream",
          "name": "stdout",
          "text": [
            "x =  3\n",
            "4*(3-3)^6 - 7*(3-3)^3 + 2 = 2\n"
          ]
        }
      ]
    },
    {
      "cell_type": "markdown",
      "source": [
        "Скорость первого автомобиля V1 км/ч, второго — V2 км/ч, расстоя-\n",
        "ние между ними S км. Определить расстояние между ними через T часов,\n",
        "\n",
        "если автомобили первоначально движутся навстречу друг другу. Данное\n",
        "расстояние равно модулю разности начального расстояния и общего пути,\n",
        "проделанного автомобилями; общий путь = время · суммарная скорость."
      ],
      "metadata": {
        "id": "kgRZ8k23-ov-"
      }
    },
    {
      "cell_type": "code",
      "source": [
        "import random\n",
        "\n",
        "V1,V2 = [random.randrange(50,70) for i in range(2)]\n",
        "S = random.randrange(400,600)\n",
        "T = random.randrange(1,6)\n",
        "total_speed = V1 + V2\n",
        "total_path = total_speed * T\n",
        "D = abs(S - total_path)\n",
        "\n",
        "print(\"1st vehicle speed:\",V1)\n",
        "print(\"2nd vehicle speed:\",V2)\n",
        "print(\"Time:\",T)\n",
        "print(\"Total speed:\",total_speed)\n",
        "print(\"Initial Distance between vehicles:\",S)\n",
        "print(\"Final Distance between vehicles:\",D)\n"
      ],
      "metadata": {
        "id": "fKf8OdWF-334",
        "outputId": "2db91629-7557-4180-b45b-3c9d03e717ff",
        "colab": {
          "base_uri": "https://localhost:8080/"
        }
      },
      "execution_count": 4,
      "outputs": [
        {
          "output_type": "stream",
          "name": "stdout",
          "text": [
            "1st vehicle speed: 65\n",
            "2nd vehicle speed: 58\n",
            "Time: 5\n",
            "Total speed: 123\n",
            "Initial Distance between vehicles: 469\n",
            "Final Distance between vehicles: 146\n"
          ]
        }
      ]
    },
    {
      "cell_type": "markdown",
      "source": [
        "Даны целые положительные числа A и B (A > B). На отрезке дли-\n",
        "ны A размещено максимально возможное количество отрезков длины B\n",
        "\n",
        "(без наложений). Используя операцию деления нацело, найти количество\n",
        "отрезков B, размещенных на отрезке A."
      ],
      "metadata": {
        "id": "pkulLWTK_HqS"
      }
    },
    {
      "cell_type": "code",
      "source": [
        "import random\n",
        "\n",
        "A = random.randrange(1,100)\n",
        "B = random.randrange(1,A)\n",
        "print(\"A = \", A)\n",
        "print(\"B = \", B)\n",
        "x = int(A/B)\n",
        "print(\"Количество полных B в A: \", x)\n",
        "\n"
      ],
      "metadata": {
        "id": "Hzh1HoJN_do0",
        "outputId": "43634bc6-5401-4d71-e84b-37e95936edc3",
        "colab": {
          "base_uri": "https://localhost:8080/"
        }
      },
      "execution_count": 5,
      "outputs": [
        {
          "output_type": "stream",
          "name": "stdout",
          "text": [
            "A =  16\n",
            "B =  14\n",
            "Количество полных B в A:  1\n"
          ]
        }
      ]
    },
    {
      "cell_type": "markdown",
      "source": [
        "Дано трехзначное число. Вывести число, полученное при переста-\n",
        "новке цифр сотен и десятков исходного числа (например, 123 перейдет в\n",
        "\n",
        "213)."
      ],
      "metadata": {
        "id": "c0UM3BjY_lZh"
      }
    },
    {
      "cell_type": "code",
      "source": [
        "import random\n",
        "\n",
        "N = random.randrange(100,1000)\n",
        "print(\"Число: \", N)\n",
        "d2 = int(N/100)\n",
        "d1 = int((N-d2*100)/10)\n",
        "d0 = N%10\n",
        "print(\"Сотни: \", d2)\n",
        "print(\"Десятки: \", d1)\n",
        "print(\"Единицы: \", d0)\n",
        "print(\"Другое число: \", d1*100 + d2*10 + d0)\n",
        "\n"
      ],
      "metadata": {
        "id": "wAQU8_N-_yBC",
        "outputId": "4a20d867-0c42-4a12-f905-0bba54cc6cea",
        "colab": {
          "base_uri": "https://localhost:8080/"
        }
      },
      "execution_count": 6,
      "outputs": [
        {
          "output_type": "stream",
          "name": "stdout",
          "text": [
            "Число:  558\n",
            "Сотни:  5\n",
            "Десятки:  5\n",
            "Единицы:  8\n",
            "Другое число:  558\n"
          ]
        }
      ]
    },
    {
      "cell_type": "markdown",
      "source": [
        "Дни недели пронумерованы следующим образом: 1 — понедель-\n",
        "ник, 2 — вторник, . . . , 6 — суббота, 7 — воскресенье. Дано целое число K,\n",
        "\n",
        "лежащее в диапазоне 1–365. Определить номер дня недели для K-го дня\n",
        "года, если известно, что в этом году 1 января было вторником."
      ],
      "metadata": {
        "id": "9Gw7eZ-oAAJv"
      }
    },
    {
      "cell_type": "code",
      "source": [
        "import random\n",
        "\n",
        "week_days = {\n",
        "    1: 'понедельник',\n",
        "    2: 'вторник',\n",
        "    3: 'среда',\n",
        "    4: 'четверг',\n",
        "    5: 'пятница',\n",
        "    6: 'суббота',\n",
        "    7: 'воскресенье'\n",
        "}\n",
        "\n",
        "K = random.randrange(1,366)\n",
        "K = 29\n",
        "\n",
        "i = 1%7 + 1\n",
        "print(\"1-е января: \", 1)\n",
        "print(\"Номер дня недели: \", i)\n",
        "print(\"День недели:\",week_days[i])\n",
        "\n",
        "i = K%7 + 1\n",
        "print()\n",
        "print(\"Номер дня года: \", K)\n",
        "print(\"Номер дня недели: \", i)\n",
        "print(\"День недели:\",week_days[i])\n"
      ],
      "metadata": {
        "id": "Ao6JixxaAJSG",
        "outputId": "fc2d5332-57a7-46bf-f985-b8308d359d24",
        "colab": {
          "base_uri": "https://localhost:8080/"
        }
      },
      "execution_count": 7,
      "outputs": [
        {
          "output_type": "stream",
          "name": "stdout",
          "text": [
            "1-е января:  1\n",
            "Номер дня недели:  2\n",
            "День недели: вторник\n",
            "\n",
            "Номер дня года:  29\n",
            "Номер дня недели:  2\n",
            "День недели: вторник\n"
          ]
        }
      ]
    },
    {
      "cell_type": "markdown",
      "source": [
        "Даны два целых числа: A, B. Проверить истинность высказывания:\n",
        "«Справедливы неравенства A > 2 и B ≤ 3»."
      ],
      "metadata": {
        "id": "GxmTXcH-AUuw"
      }
    },
    {
      "cell_type": "code",
      "source": [
        "import random\n",
        "A = random.randrange(-10,10)\n",
        "B = random.randrange(-10,10)\n",
        "print(\"A = \", A)\n",
        "print(\"B = \", B)\n",
        "x = (A>2) and (B<=3)\n",
        "print(\"A > 2: \", (A>2))\n",
        "print(\"B <=3: \", (B<=3))\n",
        "print(\"A > 2 и B <=3: \", x)\n"
      ],
      "metadata": {
        "id": "M5J2KALSAeYK",
        "outputId": "fbcdae3b-093c-4211-ae70-5955aee4e910",
        "colab": {
          "base_uri": "https://localhost:8080/"
        }
      },
      "execution_count": 8,
      "outputs": [
        {
          "output_type": "stream",
          "name": "stdout",
          "text": [
            "A =  -4\n",
            "B =  -1\n",
            "A > 2:  False\n",
            "B <=3:  True\n",
            "A > 2 и B <=3:  False\n"
          ]
        }
      ]
    },
    {
      "cell_type": "markdown",
      "source": [
        "Даны три целых числа: A, B, C. Проверить истинность высказы-\n",
        "вания: «Ровно два из чисел A, B, C являются положительными»."
      ],
      "metadata": {
        "id": "RkBfzFtPAsqd"
      }
    },
    {
      "cell_type": "code",
      "source": [
        "import random\n",
        "A = random.randrange(-10,10)\n",
        "B = random.randrange(-10,10)\n",
        "C = random.randrange(-10,10)\n",
        "print(\"A = \", A)\n",
        "print(\"B = \", B)\n",
        "print(\"C = \", C)\n",
        "a = (A>0)\n",
        "b = (B>0)\n",
        "c = (C>0)\n",
        "x = (a and b and not c) \\\n",
        "    or (not a and b and c) \\\n",
        "    or (a and not b and c)\n",
        "print(\"A положительно: \", a)\n",
        "print(\"B положительно: \", b)\n",
        "print(\"C положительно: \", c)\n",
        "print(\"Ровно два из чисел A, B, C являются положительными: \", x)\n"
      ],
      "metadata": {
        "id": "L1sL-FysA1Ud",
        "outputId": "33f43c38-fac4-4fa9-8b33-22578192c447",
        "colab": {
          "base_uri": "https://localhost:8080/"
        }
      },
      "execution_count": 9,
      "outputs": [
        {
          "output_type": "stream",
          "name": "stdout",
          "text": [
            "A =  -2\n",
            "B =  9\n",
            "C =  7\n",
            "A положительно:  False\n",
            "B положительно:  True\n",
            "C положительно:  True\n",
            "Ровно два из чисел A, B, C являются положительными:  True\n"
          ]
        }
      ]
    },
    {
      "cell_type": "markdown",
      "source": [
        "Даны числа x, y. Проверить истинность высказывания: «Точка с\n",
        "координатами (x, y) лежит в четвертой координатной четверти»."
      ],
      "metadata": {
        "id": "Ng_tA8xaBAxj"
      }
    },
    {
      "cell_type": "code",
      "source": [
        "import numpy as np\n",
        "\n",
        "x,y = list(np.random.choice(range(-10, 11), 2))\n",
        "print(\"x = {0}, y = {1}\".format(x,y))\n",
        "\n",
        "b = (x > 0 and y < 0)\n",
        "print(\"Точка лежит в 4-й координатной четверти: \", b)\n"
      ],
      "metadata": {
        "id": "fc8XZxmTBHft",
        "outputId": "3f8115ba-06a6-460f-ec43-85fd42d2c644",
        "colab": {
          "base_uri": "https://localhost:8080/"
        }
      },
      "execution_count": 10,
      "outputs": [
        {
          "output_type": "stream",
          "name": "stdout",
          "text": [
            "x = -8, y = -4\n",
            "Точка лежит в 4-й координатной четверти:  False\n"
          ]
        }
      ]
    },
    {
      "cell_type": "markdown",
      "source": [
        "Даны координаты двух различных полей шахматной доски x1,\n",
        "\n",
        "Условный оператор 15\n",
        "\n",
        "y1, x2, y2 (целые числа, лежащие в диапазоне 1–8). Проверить истинность\n",
        "\n",
        "высказывания: «Король за один ход может перейти с одного поля на дру-\n",
        "гое»."
      ],
      "metadata": {
        "id": "uRp-WJhQBlLF"
      }
    },
    {
      "cell_type": "code",
      "source": [
        "import random\n",
        "\n",
        "x1,y1,x2,y2 = [random.randrange(1, 9) for i in range(0,4)]\n",
        "x1,y1,x2,y2 = [2,2,2,1]\n",
        "\n",
        "c = (abs(x1-x2) == 1 and abs(y1-y2) == 1) \\\n",
        "    or (x1 == x2 and abs(y1-y2) == 1) \\\n",
        "    or (y1 == y2 and abs(x1-x2) == 1)\n",
        "\n",
        "print(\"The 1st field:\")\n",
        "print(\"x1: \", x1)\n",
        "print(\"y1: \", y1)\n",
        "print()\n",
        "print(\"The 2nd field:\")\n",
        "print(\"x2: \", x2)\n",
        "print(\"y2: \", y2)\n",
        "print()\n",
        "\n",
        "print(\"King can move in one turn \\\n",
        "from one field to another: \",(c))\n"
      ],
      "metadata": {
        "id": "LZ5dtqAABt9t",
        "outputId": "6ac7ecdc-50d7-41db-da89-57ecedb76f00",
        "colab": {
          "base_uri": "https://localhost:8080/"
        }
      },
      "execution_count": 12,
      "outputs": [
        {
          "output_type": "stream",
          "name": "stdout",
          "text": [
            "The 1st field:\n",
            "x1:  2\n",
            "y1:  2\n",
            "\n",
            "The 2nd field:\n",
            "x2:  2\n",
            "y2:  1\n",
            "\n",
            "King can move in one turn from one field to another:  True\n"
          ]
        }
      ]
    },
    {
      "cell_type": "markdown",
      "source": [
        "Даны три целых числа. Найти количество положительных чисел в исход-\n",
        "ном наборе."
      ],
      "metadata": {
        "id": "j-RTbw6KB2Ma"
      }
    },
    {
      "cell_type": "code",
      "source": [
        "import random\n",
        "\n",
        "A = random.randrange(-3,3)\n",
        "B = random.randrange(-3,3)\n",
        "C = random.randrange(-3,3)\n",
        "print(\"Три числа:\", A, B, C)\n",
        "\n",
        "x = 0\n",
        "if A > 0:\n",
        "    x += 1\n",
        "if B > 0:\n",
        "    x += 1\n",
        "if C > 0:\n",
        "    x += 1\n",
        "\n",
        "print(\"Количество положительных чисел: \", x)\n"
      ],
      "metadata": {
        "id": "3lFsADEECSae",
        "outputId": "54ba0594-1713-41da-aa3c-cf0a058b7352",
        "colab": {
          "base_uri": "https://localhost:8080/"
        }
      },
      "execution_count": 13,
      "outputs": [
        {
          "output_type": "stream",
          "name": "stdout",
          "text": [
            "Три числа: 1 -2 -3\n",
            "Количество положительных чисел:  1\n"
          ]
        }
      ]
    },
    {
      "cell_type": "markdown",
      "source": [
        "Даны три числа. Найти сумму двух наибольших из них."
      ],
      "metadata": {
        "id": "ZvT2oLjgCe7h"
      }
    },
    {
      "cell_type": "code",
      "source": [
        "import random\n",
        "\n",
        "A = random.randrange(-30,30)\n",
        "B = random.randrange(-30,30)\n",
        "C = random.randrange(-30,30)\n",
        "\n",
        "print(\"Число A:\", A)\n",
        "print(\"Число B:\", B)\n",
        "print(\"Число C:\", C)\n",
        "\n",
        "if (C <= A and A <= B) or (C <= B and B <= A):\n",
        "    m = A + B\n",
        "elif (B <= A and A <= C) or (B <= C and C <= A):\n",
        "    m = A + C\n",
        "elif (A <= C and C <= B) or (A <= B and B <= C):\n",
        "    m = B + C\n",
        "\n",
        "print()    \n",
        "print(\"Сумма:\", m)\n"
      ],
      "metadata": {
        "id": "AQZvsJwkCq20",
        "outputId": "86f6d006-9770-4245-cf47-192765c0b80d",
        "colab": {
          "base_uri": "https://localhost:8080/"
        }
      },
      "execution_count": 14,
      "outputs": [
        {
          "output_type": "stream",
          "name": "stdout",
          "text": [
            "Число A: 0\n",
            "Число B: -26\n",
            "Число C: -24\n",
            "\n",
            "Сумма: -24\n"
          ]
        }
      ]
    },
    {
      "cell_type": "markdown",
      "source": [
        "Для данного вещественного x найти значение следующей функции f,\n",
        "принимающей вещественные значения:\n",
        "\n",
        "−x, если x ≤ 0,\n",
        "\n",
        "f (x) = x\n",
        "2\n",
        ", если 0 < x < 2,\n",
        "4, если x ≥ 2."
      ],
      "metadata": {
        "id": "GEkn_tc-CyKq"
      }
    },
    {
      "cell_type": "code",
      "source": [
        "for i in range(-2,7):\n",
        "    x = i / 2\n",
        "    if x <= 0:\n",
        "        y = -x\n",
        "    elif x < 2:\n",
        "        y = x * x\n",
        "    else:\n",
        "        y = 4\n",
        "    print(\"x = {0} : f(x) = {1}\".format(x,y))\n",
        "\n"
      ],
      "metadata": {
        "id": "vmgRrqZOC8wH",
        "outputId": "8265e2ba-db3e-4173-f2ef-1876d6b44dda",
        "colab": {
          "base_uri": "https://localhost:8080/"
        }
      },
      "execution_count": 15,
      "outputs": [
        {
          "output_type": "stream",
          "name": "stdout",
          "text": [
            "x = -1.0 : f(x) = 1.0\n",
            "x = -0.5 : f(x) = 0.5\n",
            "x = 0.0 : f(x) = -0.0\n",
            "x = 0.5 : f(x) = 0.25\n",
            "x = 1.0 : f(x) = 1.0\n",
            "x = 1.5 : f(x) = 2.25\n",
            "x = 2.0 : f(x) = 4\n",
            "x = 2.5 : f(x) = 4\n",
            "x = 3.0 : f(x) = 4\n"
          ]
        }
      ]
    },
    {
      "cell_type": "markdown",
      "source": [
        "Дано вещественное число — цена 1 кг конфет. Вывести стоимость 1,\n",
        "2, . . . , 10 кг конфет."
      ],
      "metadata": {
        "id": "PkInbMAdDBw8"
      }
    },
    {
      "cell_type": "code",
      "source": [
        "import random\n",
        "\n",
        "price = round(random.uniform(0, 100),2)\n",
        "print('Цена 1 кг конфет: ', price)\n",
        "print()\n",
        "for i in range(1,11):\n",
        "    print(\"Стоимость \", i, 'кг: {0:.2f}'.format(i * price))\n"
      ],
      "metadata": {
        "id": "1OjGB1cWDJ5s",
        "outputId": "c723af0c-d246-4689-c7d5-f9bc6aae3c31",
        "colab": {
          "base_uri": "https://localhost:8080/"
        }
      },
      "execution_count": 16,
      "outputs": [
        {
          "output_type": "stream",
          "name": "stdout",
          "text": [
            "Цена 1 кг конфет:  34.09\n",
            "\n",
            "Стоимость  1 кг: 34.09\n",
            "Стоимость  2 кг: 68.18\n",
            "Стоимость  3 кг: 102.27\n",
            "Стоимость  4 кг: 136.36\n",
            "Стоимость  5 кг: 170.45\n",
            "Стоимость  6 кг: 204.54\n",
            "Стоимость  7 кг: 238.63\n",
            "Стоимость  8 кг: 272.72\n",
            "Стоимость  9 кг: 306.81\n",
            "Стоимость  10 кг: 340.90\n"
          ]
        }
      ]
    },
    {
      "cell_type": "markdown",
      "source": [
        "Дано вещественное число A и целое число N (> 0). Найти A в степе-\n",
        "ни N:\n",
        "\n",
        "A\n",
        "N = A·A· . . . ·A"
      ],
      "metadata": {
        "id": "PTUiOUDDDOjQ"
      }
    },
    {
      "cell_type": "code",
      "source": [
        "import random\n",
        "\n",
        "N = random.randrange(1,10)\n",
        "print('N = ', N)\n",
        "A = random.randrange(-10,10)\n",
        "print('A = ', A)\n",
        "\n",
        "P = 1\n",
        "for i in range(1,N+1):\n",
        "    P *= A\n",
        "    print(i,\" : \",P)\n",
        "print(\"Product = \",P)\n"
      ],
      "metadata": {
        "id": "jC4rtWctDUgp",
        "outputId": "2142aea1-4290-47f9-8d88-0bd26cddc761",
        "colab": {
          "base_uri": "https://localhost:8080/"
        }
      },
      "execution_count": 17,
      "outputs": [
        {
          "output_type": "stream",
          "name": "stdout",
          "text": [
            "N =  7\n",
            "A =  5\n",
            "1  :  5\n",
            "2  :  25\n",
            "3  :  125\n",
            "4  :  625\n",
            "5  :  3125\n",
            "6  :  15625\n",
            "7  :  78125\n",
            "Product =  78125\n"
          ]
        }
      ]
    },
    {
      "cell_type": "markdown",
      "source": [
        "Дано вещественное число X (|X| < 1) и целое число N (> 0). Найти\n",
        "\n",
        "Цикл с параметром 23\n",
        "\n",
        "значение выражения\n",
        "X − X\n",
        "3\n",
        "/3 + X\n",
        "5\n",
        "/5 − . . . + (−1)N ·X\n",
        "\n",
        "2·N+1/(2·N+1).\n",
        "\n",
        "Полученное число является приближенным значением функции arctg в\n",
        "точке X."
      ],
      "metadata": {
        "id": "cAfsdQJKD3iE"
      }
    },
    {
      "cell_type": "code",
      "source": [
        "import math\n",
        "X = 0.8\n",
        "N = 20\n",
        "print('X = ', X)\n",
        "print('N = ', N)\n",
        "\n",
        "p = X\n",
        "S = X\n",
        "k = 1\n",
        "for i in range(1,N+1):\n",
        "    p *= -1*X*X\n",
        "    k += 2\n",
        "    S += p/k\n",
        "    print(i,\" : \",k,\" : \",p,\" : \",S)\n",
        "\n",
        "print(\"Result:\")\n",
        "print(S)\n",
        "print(\"atan(x):\")\n",
        "print(math.atan(X))\n"
      ],
      "metadata": {
        "id": "RsEK7scxD8yj",
        "outputId": "3c210b13-1dca-4e64-fde1-9b4a5283fcf5",
        "colab": {
          "base_uri": "https://localhost:8080/"
        }
      },
      "execution_count": 18,
      "outputs": [
        {
          "output_type": "stream",
          "name": "stdout",
          "text": [
            "X =  0.8\n",
            "N =  20\n",
            "1  :  3  :  -0.5120000000000001  :  0.6293333333333333\n",
            "2  :  5  :  0.32768000000000014  :  0.6948693333333333\n",
            "3  :  7  :  -0.20971520000000013  :  0.664910019047619\n",
            "4  :  9  :  0.13421772800000012  :  0.6798230999365079\n",
            "5  :  11  :  -0.08589934592000009  :  0.6720140684892352\n",
            "6  :  13  :  0.05497558138880007  :  0.6762429593652968\n",
            "7  :  15  :  -0.03518437208883205  :  0.6738973345593746\n",
            "8  :  17  :  0.022517998136852516  :  0.6752219226850719\n",
            "9  :  19  :  -0.014411518807585613  :  0.6744634216951989\n",
            "10  :  21  :  0.009223372036854794  :  0.6749026298874301\n",
            "11  :  23  :  -0.005902958103587069  :  0.6746459795351002\n",
            "12  :  25  :  0.003777893186295725  :  0.674797095262552\n",
            "13  :  27  :  -0.0024178516392292645  :  0.6747075452018398\n",
            "14  :  29  :  0.0015474250491067296  :  0.6747609046862918\n",
            "15  :  31  :  -0.0009903520314283071  :  0.6747289578465683\n",
            "16  :  33  :  0.0006338253001141167  :  0.6747481646738445\n",
            "17  :  35  :  -0.00040564819207303477  :  0.6747365747254995\n",
            "18  :  37  :  0.0002596148429267423  :  0.6747435913428759\n",
            "19  :  39  :  -0.00016615349947311512  :  0.6747393309967356\n",
            "20  :  41  :  0.0001063382396627937  :  0.6747419246123371\n",
            "Result:\n",
            "0.6747419246123371\n",
            "atan(x):\n",
            "0.6747409422235527\n"
          ]
        }
      ]
    },
    {
      "cell_type": "markdown",
      "source": [
        "Дано целое число N (> 0). Найти сумму\n",
        "\n",
        "1\n",
        "1 + 22 + . . . + N\n",
        "N .\n",
        "\n",
        "Чтобы избежать целочисленного переполнения, вычислять слагаемые\n",
        "\n",
        "этой суммы с помощью вещественной переменной и выводить резуль-\n",
        "тат как вещественное число."
      ],
      "metadata": {
        "id": "mpa7YUVyEBtL"
      }
    },
    {
      "cell_type": "code",
      "source": [
        "import random\n",
        "\n",
        "N = random.randrange(1,11)\n",
        "\n",
        "print(\"N = \",N)\n",
        "print()\n",
        "\n",
        "s = 0\n",
        "for i in range(1,N+1):\n",
        "    p = 1.0\n",
        "    for j in range(1,i+1):\n",
        "        p *= i\n",
        "    s += p\n",
        "    print(\"i = \",i)\n",
        "    print(\"p = \",p)\n",
        "    print(\"s = \",s)\n",
        "    print()\n",
        "\n",
        "print(\"Sum = \",s)\n",
        "\n"
      ],
      "metadata": {
        "id": "m24wgUt7ESJY",
        "outputId": "855cceb0-c678-430d-d991-ffae292ecb2f",
        "colab": {
          "base_uri": "https://localhost:8080/"
        }
      },
      "execution_count": 19,
      "outputs": [
        {
          "output_type": "stream",
          "name": "stdout",
          "text": [
            "N =  5\n",
            "\n",
            "i =  1\n",
            "p =  1.0\n",
            "s =  1.0\n",
            "\n",
            "i =  2\n",
            "p =  4.0\n",
            "s =  5.0\n",
            "\n",
            "i =  3\n",
            "p =  27.0\n",
            "s =  32.0\n",
            "\n",
            "i =  4\n",
            "p =  256.0\n",
            "s =  288.0\n",
            "\n",
            "i =  5\n",
            "p =  3125.0\n",
            "s =  3413.0\n",
            "\n",
            "Sum =  3413.0\n"
          ]
        }
      ]
    },
    {
      "cell_type": "markdown",
      "source": [
        "Дано целое число N (> 0). Если оно является степенью числа 3, то\n",
        "вывести TRUE, если не является — вывести FALSE."
      ],
      "metadata": {
        "id": "-WImmt4BEZ0q"
      }
    },
    {
      "cell_type": "code",
      "source": [
        "import random\n",
        "\n",
        "#N = random.randrange(1,1000)\n",
        "N = 81\n",
        "print('N = ', N)\n",
        "\n",
        "while N >= 3:\n",
        "    N /= 3\n",
        "print(\"Является степенью 3: \", (N==1))\n"
      ],
      "metadata": {
        "id": "rVZMagGYEmDE",
        "outputId": "8518eb91-e97e-4549-a975-f54791745e4d",
        "colab": {
          "base_uri": "https://localhost:8080/"
        }
      },
      "execution_count": 20,
      "outputs": [
        {
          "output_type": "stream",
          "name": "stdout",
          "text": [
            "N =  81\n",
            "Является степенью 3:  True\n"
          ]
        }
      ]
    },
    {
      "cell_type": "markdown",
      "source": [
        "Начальный вклад в банке равен 1000 руб. Через каждый месяц раз-\n",
        "мер вклада увеличивается на P процентов от имеющейся суммы (P —\n",
        "\n",
        "вещественное число, 0 < P < 25). По данному P определить, через сколько\n",
        "\n",
        "месяцев размер вклада превысит 1100 руб., и вывести найденное количе-\n",
        "ство месяцев K (целое число) и итоговый размер вклада S (вещественное\n",
        "\n",
        "число)."
      ],
      "metadata": {
        "id": "ylaTAQE_Euy_"
      }
    },
    {
      "cell_type": "code",
      "source": [
        "import random\n",
        "\n",
        "S_start = 1000\n",
        "S_end = 1100\n",
        "\n",
        "P = random.randrange(10,260)/10\n",
        "#P = 7\n",
        "print('P = ', P)\n",
        "coef = 1 + P/100\n",
        "print(\"Initial Amount = {0}, Percent = {1}, Coef = {2}\".format(S_start,P,coef))\n",
        "K = 0\n",
        "S = S_start\n",
        "while S < S_end:\n",
        "    S *= coef\n",
        "    K += 1\n",
        "    print(\"K = {0}, S = {1}\".format(K,S))\n",
        "\n",
        "print()\n",
        "print(\"Months = {0}, Final Amount = {1}\".format(K,S))\n"
      ],
      "metadata": {
        "id": "jpYOzaoSE0vr",
        "outputId": "cd322800-16fe-47b5-e649-5c5aa0aff550",
        "colab": {
          "base_uri": "https://localhost:8080/"
        }
      },
      "execution_count": 21,
      "outputs": [
        {
          "output_type": "stream",
          "name": "stdout",
          "text": [
            "P =  6.8\n",
            "Initial Amount = 1000, Percent = 6.8, Coef = 1.068\n",
            "K = 1, S = 1068.0\n",
            "K = 2, S = 1140.624\n",
            "\n",
            "Months = 2, Final Amount = 1140.624\n"
          ]
        }
      ]
    },
    {
      "cell_type": "markdown",
      "source": [
        "Дано целое число N (> 1), являющееся числом Фибоначчи: N = FK\n",
        "(определение чисел Фибоначчи дано в задании While24). Найти целые\n",
        "числа FK−1 и FK+1 — предыдущее и последующее числа Фибоначчи."
      ],
      "metadata": {
        "id": "HhQdBEY9E8dV"
      }
    },
    {
      "cell_type": "code",
      "source": [
        "import random\n",
        "\n",
        "fib = []\n",
        "\n",
        "def Fib1(N):\n",
        "    if N < len(fib):\n",
        "        #print(\"Fast\")\n",
        "        return fib[N-1]\n",
        "    if N == 1 or N == 2:\n",
        "        if N > len(fib):\n",
        "            fib.append(1)\n",
        "        return 1\n",
        "    #print(\"Slow\")\n",
        "    y = Fib1(N-2) + Fib1(N-1)\n",
        "    if N > len(fib):\n",
        "        fib.append(y)\n",
        "    return y\n",
        "\n",
        "K = random.randint(1,40)\n",
        "#N = 4181\n",
        "print(\"K = \",K)\n",
        "N = Fib1(K)\n",
        "print(\"Fibonacci Number (N): \", N)\n",
        "\n",
        "F1 = F2 = 1\n",
        "print(1,\":\",F1)\n",
        "print(2,\":\",F2)\n",
        "i = 2\n",
        "while F1 < N:\n",
        "    F0, F1, F2 = F1, F2, F1+F2\n",
        "    i += 1\n",
        "    print(i,\":\",F1)\n",
        "print()\n",
        "print(\"{0} + {1} = {2}\".format(F0,N,F2))\n"
      ],
      "metadata": {
        "id": "wwsVCKHHFBq0",
        "outputId": "d094e3c6-12d0-40fa-b43a-d2bc283848e1",
        "colab": {
          "base_uri": "https://localhost:8080/"
        }
      },
      "execution_count": 22,
      "outputs": [
        {
          "output_type": "stream",
          "name": "stdout",
          "text": [
            "K =  34\n",
            "Fibonacci Number (N):  5702887\n",
            "1 : 1\n",
            "2 : 1\n",
            "3 : 1\n",
            "4 : 2\n",
            "5 : 3\n",
            "6 : 5\n",
            "7 : 8\n",
            "8 : 13\n",
            "9 : 21\n",
            "10 : 34\n",
            "11 : 55\n",
            "12 : 89\n",
            "13 : 144\n",
            "14 : 233\n",
            "15 : 377\n",
            "16 : 610\n",
            "17 : 987\n",
            "18 : 1597\n",
            "19 : 2584\n",
            "20 : 4181\n",
            "21 : 6765\n",
            "22 : 10946\n",
            "23 : 17711\n",
            "24 : 28657\n",
            "25 : 46368\n",
            "26 : 75025\n",
            "27 : 121393\n",
            "28 : 196418\n",
            "29 : 317811\n",
            "30 : 514229\n",
            "31 : 832040\n",
            "32 : 1346269\n",
            "33 : 2178309\n",
            "34 : 3524578\n",
            "35 : 5702887\n",
            "\n",
            "3524578 + 5702887 = 9227465\n"
          ]
        }
      ]
    },
    {
      "cell_type": "markdown",
      "source": [],
      "metadata": {
        "id": "C2iEBK18_69O"
      }
    }
  ]
}